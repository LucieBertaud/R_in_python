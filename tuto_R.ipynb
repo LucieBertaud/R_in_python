{
 "cells": [
  {
   "cell_type": "markdown",
   "id": "da938b64",
   "metadata": {},
   "source": [
    "# Using R in python thanks to rpy2"
   ]
  },
  {
   "cell_type": "markdown",
   "id": "aa119d12",
   "metadata": {},
   "source": [
    "Python and R are two widely used programing languages. You may want to run some R code in python for example to use a R-package or to integrate R-function. \n",
    "To integrate some R code in python, you need to have R install on your machine and to install the python package rpy2 (pip install rpy2). \n",
    "\n",
    "Documentation :\n",
    "https://rpy2.github.io "
   ]
  },
  {
   "cell_type": "markdown",
   "id": "f7bb0e03",
   "metadata": {},
   "source": [
    "## Starting point"
   ]
  },
  {
   "cell_type": "code",
   "execution_count": 2,
   "id": "6baa9673",
   "metadata": {},
   "outputs": [],
   "source": [
    "import rpy2.robjects as ro"
   ]
  },
  {
   "cell_type": "markdown",
   "id": "d943759e",
   "metadata": {},
   "source": [
    "## Importation of packages"
   ]
  },
  {
   "cell_type": "markdown",
   "id": "dbcc8be6",
   "metadata": {},
   "source": [
    "You can import any package by using importr and by quoting the name of the package"
   ]
  },
  {
   "cell_type": "code",
   "execution_count": 3,
   "id": "3767488c",
   "metadata": {},
   "outputs": [
    {
     "data": {
      "text/plain": [
       "rpy2.robjects.packages.Package as a <module 'base'>"
      ]
     },
     "execution_count": 3,
     "metadata": {},
     "output_type": "execute_result"
    }
   ],
   "source": [
    "from rpy2.robjects.packages import importr\n",
    "importr(\"base\")\n",
    "\n"
   ]
  },
  {
   "cell_type": "markdown",
   "id": "cda78ecc",
   "metadata": {},
   "source": [
    "## Definition of parameters in R"
   ]
  },
  {
   "cell_type": "markdown",
   "id": "a7603e8c",
   "metadata": {},
   "source": [
    "To define parameters in the R environment use \n",
    "ro.r(''' definition of parameter  '''). What's written between ' ' ' is R code like it would be in R."
   ]
  },
  {
   "cell_type": "code",
   "execution_count": 4,
   "id": "9c01d2c8",
   "metadata": {},
   "outputs": [
    {
     "data": {
      "text/html": [
       "\n",
       "        <span>FloatVector with 1 elements.</span>\n",
       "        <table>\n",
       "        <tbody>\n",
       "          <tr>\n",
       "          \n",
       "            <td>\n",
       "            50.000000\n",
       "            </td>\n",
       "          \n",
       "          </tr>\n",
       "        </tbody>\n",
       "        </table>\n",
       "        "
      ],
      "text/plain": [
       "<rpy2.robjects.vectors.FloatVector object at 0x000002B7D4DE7F88> [RTYPES.REALSXP]\n",
       "R classes: ('numeric',)\n",
       "[50.000000]"
      ]
     },
     "execution_count": 4,
     "metadata": {},
     "output_type": "execute_result"
    }
   ],
   "source": [
    "ro.r(''' value <- 50''')\n",
    "ro.r('value')"
   ]
  },
  {
   "cell_type": "code",
   "execution_count": 5,
   "id": "dba3b13b",
   "metadata": {},
   "outputs": [
    {
     "data": {
      "text/html": [
       "\n",
       "        <span>StrVector with 1 elements.</span>\n",
       "        <table>\n",
       "        <tbody>\n",
       "          <tr>\n",
       "          \n",
       "            <td>\n",
       "            'message'\n",
       "            </td>\n",
       "          \n",
       "          </tr>\n",
       "        </tbody>\n",
       "        </table>\n",
       "        "
      ],
      "text/plain": [
       "<rpy2.robjects.vectors.StrVector object at 0x000002B7D4DD26C8> [RTYPES.STRSXP]\n",
       "R classes: ('character',)\n",
       "['message']"
      ]
     },
     "execution_count": 5,
     "metadata": {},
     "output_type": "execute_result"
    }
   ],
   "source": [
    "ro.r('''string <- \"message\"''')\n",
    "ro.r('string')"
   ]
  },
  {
   "cell_type": "markdown",
   "id": "54cec6f4",
   "metadata": {},
   "source": [
    "## Conversion of python parameter in R"
   ]
  },
  {
   "cell_type": "markdown",
   "id": "2ff4c475",
   "metadata": {},
   "source": [
    "Parameters given to an R function should be R objects. So a conversion is needed to pass from python object to R object. Here are some examples of conversion:"
   ]
  },
  {
   "cell_type": "markdown",
   "id": "19d55765",
   "metadata": {},
   "source": [
    "### List of integers"
   ]
  },
  {
   "cell_type": "code",
   "execution_count": 6,
   "id": "a87c31c7",
   "metadata": {},
   "outputs": [],
   "source": [
    "intListPython = [1, 2, 3, 4, 5, 6]"
   ]
  },
  {
   "cell_type": "code",
   "execution_count": 7,
   "id": "39c9ed9e",
   "metadata": {},
   "outputs": [
    {
     "name": "stdout",
     "output_type": "stream",
     "text": [
      "[1] 1 2 3 4 5 6\n",
      " <class 'rpy2.robjects.vectors.IntVector'>\n"
     ]
    }
   ],
   "source": [
    "intVectorR = ro.IntVector(intListPython) \n",
    "print(intVectorR, type(intVectorR))"
   ]
  },
  {
   "cell_type": "markdown",
   "id": "613522dd",
   "metadata": {},
   "source": [
    "### List of float"
   ]
  },
  {
   "cell_type": "code",
   "execution_count": 8,
   "id": "0fabc6f4",
   "metadata": {},
   "outputs": [],
   "source": [
    "floatListPython = [1.6, 2.5, 3.3, 4.5]"
   ]
  },
  {
   "cell_type": "code",
   "execution_count": 9,
   "id": "e1755135",
   "metadata": {},
   "outputs": [
    {
     "name": "stdout",
     "output_type": "stream",
     "text": [
      "[1] 1.6 2.5 3.3 4.5\n",
      " <class 'rpy2.robjects.vectors.FloatVector'>\n"
     ]
    }
   ],
   "source": [
    "floatVectorR = ro.FloatVector(floatListPython)\n",
    "print(floatVectorR, type(floatVectorR))"
   ]
  },
  {
   "cell_type": "markdown",
   "id": "fdaeaada",
   "metadata": {},
   "source": [
    "### List of string"
   ]
  },
  {
   "cell_type": "code",
   "execution_count": 10,
   "id": "8aca55ef",
   "metadata": {},
   "outputs": [],
   "source": [
    "stringListPyhton = [\"a\", \"b\", \"c\", \"d\"]"
   ]
  },
  {
   "cell_type": "code",
   "execution_count": 11,
   "id": "7bfe6d45",
   "metadata": {},
   "outputs": [
    {
     "name": "stdout",
     "output_type": "stream",
     "text": [
      "[1] \"a\" \"b\" \"c\" \"d\"\n",
      " <class 'rpy2.robjects.vectors.StrVector'>\n"
     ]
    }
   ],
   "source": [
    "stringListR = ro.StrVector(stringListPyhton)\n",
    "print(stringListR, type(stringListR))"
   ]
  },
  {
   "cell_type": "markdown",
   "id": "ad8d456f",
   "metadata": {},
   "source": [
    "## Using R function"
   ]
  },
  {
   "cell_type": "markdown",
   "id": "e1cae59e",
   "metadata": {},
   "source": [
    "### Function definition"
   ]
  },
  {
   "cell_type": "markdown",
   "id": "1aed1e7a",
   "metadata": {},
   "source": [
    "The function needs to be define first in the R environnement :"
   ]
  },
  {
   "cell_type": "code",
   "execution_count": 12,
   "id": "fa5cffe1",
   "metadata": {},
   "outputs": [
    {
     "data": {
      "text/plain": [
       "<rpy2.robjects.functions.SignatureTranslatedFunction object at 0x000002B7D59147C8> [RTYPES.CLOSXP]\n",
       "R classes: ('function',)"
      ]
     },
     "execution_count": 12,
     "metadata": {},
     "output_type": "execute_result"
    }
   ],
   "source": [
    "ro.r('''function_in_R <- function(){\n",
    "    data(iris)\n",
    "    sepal_mean = mean(iris$Sepal.Length)\n",
    "    return(sepal_mean)}\n",
    "    ''')"
   ]
  },
  {
   "cell_type": "markdown",
   "id": "f99235f8",
   "metadata": {},
   "source": [
    "Then to be able to call the function in python, you need to define the R function in python."
   ]
  },
  {
   "cell_type": "code",
   "execution_count": 13,
   "id": "ac0ff368",
   "metadata": {
    "scrolled": true
   },
   "outputs": [
    {
     "name": "stdout",
     "output_type": "stream",
     "text": [
      "[1] 5.843333\n",
      "\n"
     ]
    }
   ],
   "source": [
    "r_function_in_python = ro.r('function_in_R')\n",
    "sepal_mean = r_function_in_python()\n",
    "print(sepal_mean)"
   ]
  },
  {
   "cell_type": "markdown",
   "id": "f8f1d588",
   "metadata": {},
   "source": [
    "### Example with numbers as argument"
   ]
  },
  {
   "cell_type": "code",
   "execution_count": 14,
   "id": "911778c6",
   "metadata": {},
   "outputs": [
    {
     "data": {
      "text/plain": [
       "<rpy2.robjects.functions.SignatureTranslatedFunction object at 0x000002B7D4DE2A08> [RTYPES.CLOSXP]\n",
       "R classes: ('function',)"
      ]
     },
     "execution_count": 14,
     "metadata": {},
     "output_type": "execute_result"
    }
   ],
   "source": [
    "ro.r('''opertation_in_R <- function(a, b, c){\n",
    "    d <- a*b+c\n",
    "    return(d)}\n",
    "    ''')"
   ]
  },
  {
   "cell_type": "code",
   "execution_count": 15,
   "id": "3bf4466b",
   "metadata": {},
   "outputs": [
    {
     "name": "stdout",
     "output_type": "stream",
     "text": [
      "[1] 25\n",
      "\n"
     ]
    }
   ],
   "source": [
    "r_function_in_python = ro.r('opertation_in_R')\n",
    "d = r_function_in_python(3, 5, 10)\n",
    "print(d)"
   ]
  },
  {
   "cell_type": "markdown",
   "id": "2c49a015",
   "metadata": {},
   "source": [
    "### Example with a list as argument"
   ]
  },
  {
   "cell_type": "code",
   "execution_count": 16,
   "id": "5feeeebe",
   "metadata": {},
   "outputs": [
    {
     "data": {
      "text/plain": [
       "<rpy2.robjects.functions.SignatureTranslatedFunction object at 0x000002B7D58FB388> [RTYPES.CLOSXP]\n",
       "R classes: ('function',)"
      ]
     },
     "execution_count": 16,
     "metadata": {},
     "output_type": "execute_result"
    }
   ],
   "source": [
    "ro.r('''stat_in_R <- function(list_value){\n",
    "    sum_value <- sum(list_value)\n",
    "    mean_value <- mean(list_value)\n",
    "    var_value <- var(list_value)\n",
    "    test <- c(sum_value, mean_value,var_value)\n",
    "    return(test)}\n",
    "    ''')"
   ]
  },
  {
   "cell_type": "code",
   "execution_count": 17,
   "id": "ec0f5c83",
   "metadata": {},
   "outputs": [
    {
     "name": "stdout",
     "output_type": "stream",
     "text": [
      "[1] 30.300000  3.366667  0.015000\n",
      "\n",
      "30.3 <class 'float'> 272.7\n"
     ]
    }
   ],
   "source": [
    "r_function_in_python = ro.r('stat_in_R')\n",
    "param = ro.FloatVector([3.3, 3.4, 3.5, 3.3, 3.4, 3.6, 3.3, 3.2, 3.3])\n",
    "d = r_function_in_python(param)\n",
    "print(d)\n",
    "print(d[0], type(d[0]), d[0]*9) #how to use one of the results"
   ]
  },
  {
   "cell_type": "markdown",
   "id": "be3ae764",
   "metadata": {},
   "source": [
    "## Using DataFrame "
   ]
  },
  {
   "cell_type": "markdown",
   "id": "161bf76f",
   "metadata": {},
   "source": [
    "DataFrame is a frequent structure used in R and in python. A conversion is needed to pass from pandas dataFrame to R dataFrame."
   ]
  },
  {
   "cell_type": "markdown",
   "id": "1e6782d0",
   "metadata": {},
   "source": [
    "### From pandas to R"
   ]
  },
  {
   "cell_type": "code",
   "execution_count": 18,
   "id": "f27845c8",
   "metadata": {},
   "outputs": [],
   "source": [
    "import pandas as pd\n",
    "from rpy2.robjects import pandas2ri\n",
    "from rpy2.robjects.conversion import localconverter"
   ]
  },
  {
   "cell_type": "code",
   "execution_count": 19,
   "id": "6623786a",
   "metadata": {},
   "outputs": [
    {
     "name": "stdout",
     "output_type": "stream",
     "text": [
      "   val1  val2\n",
      "0    11    44\n",
      "1    22    53\n",
      "2    33    56\n",
      "3    44    45\n",
      "4    55    66 \n",
      " <class 'pandas.core.frame.DataFrame'>\n",
      "  val1 val2\n",
      "0   11   44\n",
      "1   22   53\n",
      "2   33   56\n",
      "3   44   45\n",
      "4   55   66\n",
      " <class 'rpy2.robjects.vectors.DataFrame'>\n"
     ]
    }
   ],
   "source": [
    "pd_DataFrame = pd.DataFrame({ \"val1\": [11, 22, 33, 44, 55],\n",
    "                            \"val2\": [44, 53, 56, 45, 66] })\n",
    "\n",
    "with localconverter(ro.default_converter + pandas2ri.converter):\n",
    "    r_DataFrame = ro.conversion.py2rpy(pd_DataFrame)\n",
    "\n",
    "print(pd_DataFrame, \"\\n\",type(pd_DataFrame))\n",
    "print(r_DataFrame, type(r_DataFrame))"
   ]
  },
  {
   "cell_type": "markdown",
   "id": "90074c40",
   "metadata": {},
   "source": [
    "### From R to pandas"
   ]
  },
  {
   "cell_type": "code",
   "execution_count": 20,
   "id": "53e3968d",
   "metadata": {},
   "outputs": [
    {
     "name": "stdout",
     "output_type": "stream",
     "text": [
      "  val1 val2\n",
      "1   11   12\n",
      "2   22   23\n",
      "3   33   34\n",
      "4   44   45\n",
      "\n",
      "   val1  val2\n",
      "1  11.0  12.0\n",
      "2  22.0  23.0\n",
      "3  33.0  34.0\n",
      "4  44.0  45.0\n"
     ]
    }
   ],
   "source": [
    "ro.r('''\n",
    " data = data.frame( val1 = c(11, 22, 33, 44), val2 = c(12, 23, 34, 45))\n",
    "''')\n",
    "r_DataFrame = ro.r('data')\n",
    "print(r_DataFrame)\n",
    "\n",
    "with localconverter(ro.default_converter + pandas2ri.converter):\n",
    "    pd_DataFrame = ro.conversion.rpy2py(r_DataFrame)\n",
    "\n",
    "print(pd_DataFrame)"
   ]
  },
  {
   "cell_type": "markdown",
   "id": "4186eccc",
   "metadata": {},
   "source": [
    "Careful as you can see the rank id is not the same if you convert from python to R or from R to python."
   ]
  }
 ],
 "metadata": {
  "kernelspec": {
   "display_name": "Python 3 (ipykernel)",
   "language": "python",
   "name": "python3"
  },
  "language_info": {
   "codemirror_mode": {
    "name": "ipython",
    "version": 3
   },
   "file_extension": ".py",
   "mimetype": "text/x-python",
   "name": "python",
   "nbconvert_exporter": "python",
   "pygments_lexer": "ipython3",
   "version": "3.7.7"
  }
 },
 "nbformat": 4,
 "nbformat_minor": 5
}
